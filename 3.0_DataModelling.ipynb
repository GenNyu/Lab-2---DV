{
 "cells": [
  {
   "cell_type": "markdown",
   "metadata": {},
   "source": [
    "<div style=\"text-align: center; background-color: #0A6EBD; font-family: 'Trebuchet MS', Arial, sans-serif; color: white; padding: 20px; font-size: 40px; font-weight: bold; border-radius: 0 0 0 0; box-shadow: 0px 6px 8px rgba(0, 0, 0, 0.2);\">\n",
    "  Lab 02 - TRỰC QUAN HOÁ DỮ LIỆU 📌\n",
    "</div>"
   ]
  },
  {
   "cell_type": "markdown",
   "metadata": {},
   "source": [
    "<div style=\"text-align: center; background-color: #5A96E3; font-family: 'Trebuchet MS', Arial, sans-serif; color: white; padding: 20px; font-size: 40px; font-weight: bold; border-radius: 0 0 0 0; box-shadow: 0px 6px 8px rgba(0, 0, 0, 0.2);\">\n",
    "  Giai đoạn 3 - Data Modelling 📌\n",
    "</div>"
   ]
  },
  {
   "cell_type": "markdown",
   "metadata": {},
   "source": [
    "### Nhập các thư viện cần thiết"
   ]
  },
  {
   "cell_type": "code",
   "execution_count": 1,
   "metadata": {},
   "outputs": [],
   "source": [
    "import seaborn as sns\n",
    "import numpy as np\n",
    "import pandas as pd\n",
    "import matplotlib.pyplot as plt\n",
    "import warnings\n",
    "\n",
    "warnings.simplefilter('ignore')"
   ]
  },
  {
   "cell_type": "markdown",
   "metadata": {},
   "source": [
    "### Đọc dữ liệu"
   ]
  },
  {
   "cell_type": "code",
   "execution_count": 2,
   "metadata": {},
   "outputs": [
    {
     "data": {
      "text/html": [
       "<div>\n",
       "<style scoped>\n",
       "    .dataframe tbody tr th:only-of-type {\n",
       "        vertical-align: middle;\n",
       "    }\n",
       "\n",
       "    .dataframe tbody tr th {\n",
       "        vertical-align: top;\n",
       "    }\n",
       "\n",
       "    .dataframe thead th {\n",
       "        text-align: right;\n",
       "    }\n",
       "</style>\n",
       "<table border=\"1\" class=\"dataframe\">\n",
       "  <thead>\n",
       "    <tr style=\"text-align: right;\">\n",
       "      <th></th>\n",
       "      <th>Date</th>\n",
       "      <th>Depth_to_Groundwater</th>\n",
       "      <th>Temperature</th>\n",
       "      <th>Drainage_Volume</th>\n",
       "      <th>River_Hydrometry</th>\n",
       "      <th>Rainfall</th>\n",
       "      <th>Depth_to_Groundwater_log</th>\n",
       "      <th>Depth_to_Groundwater_diff_1</th>\n",
       "      <th>Depth_to_Groundwater_diff_2</th>\n",
       "    </tr>\n",
       "  </thead>\n",
       "  <tbody>\n",
       "    <tr>\n",
       "      <th>0</th>\n",
       "      <td>2009-01-01</td>\n",
       "      <td>-31.048571</td>\n",
       "      <td>1.657143</td>\n",
       "      <td>-28164.918857</td>\n",
       "      <td>2.371429</td>\n",
       "      <td>0.0</td>\n",
       "      <td>3.435553</td>\n",
       "      <td>0.000000</td>\n",
       "      <td>0.000000</td>\n",
       "    </tr>\n",
       "    <tr>\n",
       "      <th>1</th>\n",
       "      <td>2009-01-08</td>\n",
       "      <td>-30.784286</td>\n",
       "      <td>4.571429</td>\n",
       "      <td>-29755.789714</td>\n",
       "      <td>2.314286</td>\n",
       "      <td>2.0</td>\n",
       "      <td>3.427004</td>\n",
       "      <td>0.264286</td>\n",
       "      <td>0.264286</td>\n",
       "    </tr>\n",
       "    <tr>\n",
       "      <th>2</th>\n",
       "      <td>2009-01-15</td>\n",
       "      <td>-30.420000</td>\n",
       "      <td>7.528571</td>\n",
       "      <td>-25463.190857</td>\n",
       "      <td>2.300000</td>\n",
       "      <td>0.2</td>\n",
       "      <td>3.415100</td>\n",
       "      <td>0.364286</td>\n",
       "      <td>0.100000</td>\n",
       "    </tr>\n",
       "    <tr>\n",
       "      <th>3</th>\n",
       "      <td>2009-01-22</td>\n",
       "      <td>-30.018571</td>\n",
       "      <td>6.214286</td>\n",
       "      <td>-23854.422857</td>\n",
       "      <td>2.500000</td>\n",
       "      <td>4.1</td>\n",
       "      <td>3.401816</td>\n",
       "      <td>0.401429</td>\n",
       "      <td>0.037143</td>\n",
       "    </tr>\n",
       "    <tr>\n",
       "      <th>4</th>\n",
       "      <td>2009-01-29</td>\n",
       "      <td>-29.790000</td>\n",
       "      <td>5.771429</td>\n",
       "      <td>-25210.532571</td>\n",
       "      <td>2.500000</td>\n",
       "      <td>9.9</td>\n",
       "      <td>3.394173</td>\n",
       "      <td>0.228571</td>\n",
       "      <td>-0.172857</td>\n",
       "    </tr>\n",
       "  </tbody>\n",
       "</table>\n",
       "</div>"
      ],
      "text/plain": [
       "        Date  Depth_to_Groundwater  Temperature  Drainage_Volume  \\\n",
       "0 2009-01-01            -31.048571     1.657143    -28164.918857   \n",
       "1 2009-01-08            -30.784286     4.571429    -29755.789714   \n",
       "2 2009-01-15            -30.420000     7.528571    -25463.190857   \n",
       "3 2009-01-22            -30.018571     6.214286    -23854.422857   \n",
       "4 2009-01-29            -29.790000     5.771429    -25210.532571   \n",
       "\n",
       "   River_Hydrometry  Rainfall  Depth_to_Groundwater_log  \\\n",
       "0          2.371429       0.0                  3.435553   \n",
       "1          2.314286       2.0                  3.427004   \n",
       "2          2.300000       0.2                  3.415100   \n",
       "3          2.500000       4.1                  3.401816   \n",
       "4          2.500000       9.9                  3.394173   \n",
       "\n",
       "   Depth_to_Groundwater_diff_1  Depth_to_Groundwater_diff_2  \n",
       "0                     0.000000                     0.000000  \n",
       "1                     0.264286                     0.264286  \n",
       "2                     0.364286                     0.100000  \n",
       "3                     0.401429                     0.037143  \n",
       "4                     0.228571                    -0.172857  "
      ]
     },
     "execution_count": 2,
     "metadata": {},
     "output_type": "execute_result"
    }
   ],
   "source": [
    "df = pd.read_csv('./data/Water_Cleaner_2.csv', parse_dates=['Date'], date_parser=lambda x: pd.to_datetime(x, format='%Y-%m-%d'))\n",
    "df.head()"
   ]
  },
  {
   "cell_type": "code",
   "execution_count": 3,
   "metadata": {},
   "outputs": [
    {
     "data": {
      "text/plain": [
       "Index(['Date', 'Depth_to_Groundwater', 'Temperature', 'Drainage_Volume',\n",
       "       'River_Hydrometry', 'Rainfall', 'Depth_to_Groundwater_log',\n",
       "       'Depth_to_Groundwater_diff_1', 'Depth_to_Groundwater_diff_2'],\n",
       "      dtype='object')"
      ]
     },
     "execution_count": 3,
     "metadata": {},
     "output_type": "execute_result"
    }
   ],
   "source": [
    "df.columns"
   ]
  },
  {
   "cell_type": "code",
   "execution_count": null,
   "metadata": {},
   "outputs": [],
   "source": []
  }
 ],
 "metadata": {
  "kernelspec": {
   "display_name": "min_ds-env",
   "language": "python",
   "name": "python3"
  },
  "language_info": {
   "codemirror_mode": {
    "name": "ipython",
    "version": 3
   },
   "file_extension": ".py",
   "mimetype": "text/x-python",
   "name": "python",
   "nbconvert_exporter": "python",
   "pygments_lexer": "ipython3",
   "version": "3.10.8"
  }
 },
 "nbformat": 4,
 "nbformat_minor": 2
}
