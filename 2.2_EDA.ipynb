{
 "cells": [
  {
   "cell_type": "markdown",
   "metadata": {},
   "source": [
    "<div style=\"text-align: center; background-color: #0A6EBD; font-family: 'Trebuchet MS', Arial, sans-serif; color: white; padding: 20px; font-size: 40px; font-weight: bold; border-radius: 0 0 0 0; box-shadow: 0px 6px 8px rgba(0, 0, 0, 0.2);\">\n",
    "  Lab 01 - TRỰC QUAN HOÁ DỮ LIỆU 📌\n",
    "</div>"
   ]
  },
  {
   "cell_type": "markdown",
   "metadata": {},
   "source": [
    "<div style=\"text-align: center; background-color: #5A96E3; font-family: 'Trebuchet MS', Arial, sans-serif; color: white; padding: 20px; font-size: 40px; font-weight: bold; border-radius: 0 0 0 0; box-shadow: 0px 6px 8px rgba(0, 0, 0, 0.2);\">\n",
    "  Giai đoạn 2 - EDA (tiếp) 📌\n",
    "</div>"
   ]
  },
  {
   "cell_type": "code",
   "execution_count": 2,
   "metadata": {},
   "outputs": [],
   "source": [
    "import seaborn as sns\n",
    "import numpy as np\n",
    "import pandas as pd\n",
    "import matplotlib.pyplot as plt\n",
    "import warnings\n",
    "\n",
    "warnings.simplefilter('ignore')"
   ]
  },
  {
   "cell_type": "markdown",
   "metadata": {},
   "source": [
    "### Đọc dữ liệu"
   ]
  },
  {
   "cell_type": "code",
   "execution_count": 3,
   "metadata": {},
   "outputs": [],
   "source": [
    "df = pd.read_csv('./data/Water_Cleaner_2.csv', parse_dates=['Date'], date_parser=lambda x: pd.to_datetime(x, format='%Y-%m-%d'))"
   ]
  },
  {
   "cell_type": "code",
   "execution_count": 11,
   "metadata": {},
   "outputs": [
    {
     "data": {
      "text/html": [
       "<div>\n",
       "<style scoped>\n",
       "    .dataframe tbody tr th:only-of-type {\n",
       "        vertical-align: middle;\n",
       "    }\n",
       "\n",
       "    .dataframe tbody tr th {\n",
       "        vertical-align: top;\n",
       "    }\n",
       "\n",
       "    .dataframe thead th {\n",
       "        text-align: right;\n",
       "    }\n",
       "</style>\n",
       "<table border=\"1\" class=\"dataframe\">\n",
       "  <thead>\n",
       "    <tr style=\"text-align: right;\">\n",
       "      <th></th>\n",
       "      <th>Date</th>\n",
       "      <th>Depth_to_Groundwater</th>\n",
       "      <th>Temperature</th>\n",
       "      <th>Drainage_Volume</th>\n",
       "      <th>River_Hydrometry</th>\n",
       "      <th>Rainfall</th>\n",
       "    </tr>\n",
       "  </thead>\n",
       "  <tbody>\n",
       "    <tr>\n",
       "      <th>0</th>\n",
       "      <td>2009-01-01</td>\n",
       "      <td>-31.048571</td>\n",
       "      <td>1.657143</td>\n",
       "      <td>-28164.918857</td>\n",
       "      <td>2.371429</td>\n",
       "      <td>0.0</td>\n",
       "    </tr>\n",
       "    <tr>\n",
       "      <th>1</th>\n",
       "      <td>2009-01-08</td>\n",
       "      <td>-30.784286</td>\n",
       "      <td>4.571429</td>\n",
       "      <td>-29755.789714</td>\n",
       "      <td>2.314286</td>\n",
       "      <td>2.0</td>\n",
       "    </tr>\n",
       "    <tr>\n",
       "      <th>2</th>\n",
       "      <td>2009-01-15</td>\n",
       "      <td>-30.420000</td>\n",
       "      <td>7.528571</td>\n",
       "      <td>-25463.190857</td>\n",
       "      <td>2.300000</td>\n",
       "      <td>0.2</td>\n",
       "    </tr>\n",
       "    <tr>\n",
       "      <th>3</th>\n",
       "      <td>2009-01-22</td>\n",
       "      <td>-30.018571</td>\n",
       "      <td>6.214286</td>\n",
       "      <td>-23854.422857</td>\n",
       "      <td>2.500000</td>\n",
       "      <td>4.1</td>\n",
       "    </tr>\n",
       "    <tr>\n",
       "      <th>4</th>\n",
       "      <td>2009-01-29</td>\n",
       "      <td>-29.790000</td>\n",
       "      <td>5.771429</td>\n",
       "      <td>-25210.532571</td>\n",
       "      <td>2.500000</td>\n",
       "      <td>9.9</td>\n",
       "    </tr>\n",
       "    <tr>\n",
       "      <th>...</th>\n",
       "      <td>...</td>\n",
       "      <td>...</td>\n",
       "      <td>...</td>\n",
       "      <td>...</td>\n",
       "      <td>...</td>\n",
       "      <td>...</td>\n",
       "    </tr>\n",
       "    <tr>\n",
       "      <th>595</th>\n",
       "      <td>2020-05-28</td>\n",
       "      <td>-24.697143</td>\n",
       "      <td>17.214286</td>\n",
       "      <td>-25591.062857</td>\n",
       "      <td>2.414286</td>\n",
       "      <td>24.6</td>\n",
       "    </tr>\n",
       "    <tr>\n",
       "      <th>596</th>\n",
       "      <td>2020-06-04</td>\n",
       "      <td>-24.638571</td>\n",
       "      <td>18.785714</td>\n",
       "      <td>-24567.099429</td>\n",
       "      <td>2.628571</td>\n",
       "      <td>46.2</td>\n",
       "    </tr>\n",
       "    <tr>\n",
       "      <th>597</th>\n",
       "      <td>2020-06-11</td>\n",
       "      <td>-24.751429</td>\n",
       "      <td>19.200000</td>\n",
       "      <td>-27178.416000</td>\n",
       "      <td>2.771429</td>\n",
       "      <td>20.0</td>\n",
       "    </tr>\n",
       "    <tr>\n",
       "      <th>598</th>\n",
       "      <td>2020-06-18</td>\n",
       "      <td>-24.822857</td>\n",
       "      <td>21.942857</td>\n",
       "      <td>-28030.134857</td>\n",
       "      <td>2.600000</td>\n",
       "      <td>1.4</td>\n",
       "    </tr>\n",
       "    <tr>\n",
       "      <th>599</th>\n",
       "      <td>2020-06-25</td>\n",
       "      <td>-25.145000</td>\n",
       "      <td>26.383333</td>\n",
       "      <td>-31131.504000</td>\n",
       "      <td>2.433333</td>\n",
       "      <td>0.0</td>\n",
       "    </tr>\n",
       "  </tbody>\n",
       "</table>\n",
       "<p>600 rows × 6 columns</p>\n",
       "</div>"
      ],
      "text/plain": [
       "          Date  Depth_to_Groundwater  Temperature  Drainage_Volume  \\\n",
       "0   2009-01-01            -31.048571     1.657143    -28164.918857   \n",
       "1   2009-01-08            -30.784286     4.571429    -29755.789714   \n",
       "2   2009-01-15            -30.420000     7.528571    -25463.190857   \n",
       "3   2009-01-22            -30.018571     6.214286    -23854.422857   \n",
       "4   2009-01-29            -29.790000     5.771429    -25210.532571   \n",
       "..         ...                   ...          ...              ...   \n",
       "595 2020-05-28            -24.697143    17.214286    -25591.062857   \n",
       "596 2020-06-04            -24.638571    18.785714    -24567.099429   \n",
       "597 2020-06-11            -24.751429    19.200000    -27178.416000   \n",
       "598 2020-06-18            -24.822857    21.942857    -28030.134857   \n",
       "599 2020-06-25            -25.145000    26.383333    -31131.504000   \n",
       "\n",
       "     River_Hydrometry  Rainfall  \n",
       "0            2.371429       0.0  \n",
       "1            2.314286       2.0  \n",
       "2            2.300000       0.2  \n",
       "3            2.500000       4.1  \n",
       "4            2.500000       9.9  \n",
       "..                ...       ...  \n",
       "595          2.414286      24.6  \n",
       "596          2.628571      46.2  \n",
       "597          2.771429      20.0  \n",
       "598          2.600000       1.4  \n",
       "599          2.433333       0.0  \n",
       "\n",
       "[600 rows x 6 columns]"
      ]
     },
     "execution_count": 11,
     "metadata": {},
     "output_type": "execute_result"
    }
   ],
   "source": [
    "df[['Date','Depth_to_Groundwater','Temperature','Drainage_Volume','River_Hydrometry','Rainfall']]"
   ]
  },
  {
   "cell_type": "code",
   "execution_count": null,
   "metadata": {},
   "outputs": [],
   "source": []
  },
  {
   "cell_type": "markdown",
   "metadata": {},
   "source": [
    "### Câu 1: ...?"
   ]
  },
  {
   "cell_type": "markdown",
   "metadata": {},
   "source": [
    "**Mục đích:**\n"
   ]
  },
  {
   "cell_type": "markdown",
   "metadata": {},
   "source": [
    "**Trường dữ liệu được sử dụng:**\n",
    "\n",
    "**Biểu đồ sử dụng:**\n",
    "\n",
    "**Lý do sử dụng:**"
   ]
  },
  {
   "cell_type": "code",
   "execution_count": null,
   "metadata": {},
   "outputs": [],
   "source": []
  },
  {
   "cell_type": "markdown",
   "metadata": {},
   "source": [
    "**Nhận xét:**\n"
   ]
  },
  {
   "cell_type": "markdown",
   "metadata": {},
   "source": [
    "### Câu 1: ...?"
   ]
  },
  {
   "cell_type": "markdown",
   "metadata": {},
   "source": [
    "**Mục đích:**\n"
   ]
  },
  {
   "cell_type": "markdown",
   "metadata": {},
   "source": [
    "**Trường dữ liệu được sử dụng:**\n",
    "\n",
    "**Biểu đồ sử dụng:**\n",
    "\n",
    "**Lý do sử dụng:**"
   ]
  },
  {
   "cell_type": "code",
   "execution_count": null,
   "metadata": {},
   "outputs": [],
   "source": []
  },
  {
   "cell_type": "markdown",
   "metadata": {},
   "source": [
    "**Nhận xét:**\n"
   ]
  },
  {
   "cell_type": "markdown",
   "metadata": {},
   "source": [
    "### Câu 1: ...?"
   ]
  },
  {
   "cell_type": "markdown",
   "metadata": {},
   "source": [
    "**Mục đích:**\n"
   ]
  },
  {
   "cell_type": "markdown",
   "metadata": {},
   "source": [
    "**Trường dữ liệu được sử dụng:**\n",
    "\n",
    "**Biểu đồ sử dụng:**\n",
    "\n",
    "**Lý do sử dụng:**"
   ]
  },
  {
   "cell_type": "code",
   "execution_count": null,
   "metadata": {},
   "outputs": [],
   "source": []
  },
  {
   "cell_type": "markdown",
   "metadata": {},
   "source": [
    "**Nhận xét:**\n"
   ]
  },
  {
   "cell_type": "markdown",
   "metadata": {},
   "source": [
    "### Câu 1: ...?"
   ]
  },
  {
   "cell_type": "markdown",
   "metadata": {},
   "source": [
    "**Mục đích:**\n"
   ]
  },
  {
   "cell_type": "markdown",
   "metadata": {},
   "source": [
    "**Trường dữ liệu được sử dụng:**\n",
    "\n",
    "**Biểu đồ sử dụng:**\n",
    "\n",
    "**Lý do sử dụng:**"
   ]
  },
  {
   "cell_type": "code",
   "execution_count": null,
   "metadata": {},
   "outputs": [],
   "source": []
  },
  {
   "cell_type": "markdown",
   "metadata": {},
   "source": [
    "**Nhận xét:**\n"
   ]
  },
  {
   "cell_type": "markdown",
   "metadata": {},
   "source": [
    "### Câu 1: ...?"
   ]
  },
  {
   "cell_type": "markdown",
   "metadata": {},
   "source": [
    "**Mục đích:**\n"
   ]
  },
  {
   "cell_type": "markdown",
   "metadata": {},
   "source": [
    "**Trường dữ liệu được sử dụng:**\n",
    "\n",
    "**Biểu đồ sử dụng:**\n",
    "\n",
    "**Lý do sử dụng:**"
   ]
  },
  {
   "cell_type": "code",
   "execution_count": null,
   "metadata": {},
   "outputs": [],
   "source": []
  },
  {
   "cell_type": "markdown",
   "metadata": {},
   "source": [
    "**Nhận xét:**\n"
   ]
  },
  {
   "cell_type": "markdown",
   "metadata": {},
   "source": [
    "### Câu 1: ...?"
   ]
  },
  {
   "cell_type": "markdown",
   "metadata": {},
   "source": [
    "**Mục đích:**\n"
   ]
  },
  {
   "cell_type": "markdown",
   "metadata": {},
   "source": [
    "**Trường dữ liệu được sử dụng:**\n",
    "\n",
    "**Biểu đồ sử dụng:**\n",
    "\n",
    "**Lý do sử dụng:**"
   ]
  },
  {
   "cell_type": "code",
   "execution_count": null,
   "metadata": {},
   "outputs": [],
   "source": []
  },
  {
   "cell_type": "markdown",
   "metadata": {},
   "source": [
    "**Nhận xét:**\n"
   ]
  }
 ],
 "metadata": {
  "kernelspec": {
   "display_name": "base",
   "language": "python",
   "name": "python3"
  },
  "language_info": {
   "codemirror_mode": {
    "name": "ipython",
    "version": 3
   },
   "file_extension": ".py",
   "mimetype": "text/x-python",
   "name": "python",
   "nbconvert_exporter": "python",
   "pygments_lexer": "ipython3",
   "version": "3.11.5"
  }
 },
 "nbformat": 4,
 "nbformat_minor": 2
}
