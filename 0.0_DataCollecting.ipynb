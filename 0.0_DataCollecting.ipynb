{
 "cells": [
  {
   "cell_type": "markdown",
   "metadata": {},
   "source": [
    "<div style=\"text-align: center; background-color: #0A6EBD; font-family: 'Trebuchet MS', Arial, sans-serif; color: white; padding: 20px; font-size: 40px; font-weight: bold; border-radius: 0 0 0 0; box-shadow: 0px 6px 8px rgba(0, 0, 0, 0.2);\">\n",
    "  Lab 02 - TRỰC QUAN HOÁ DỮ LIỆU - TIME SERIES 📌\n",
    "</div>"
   ]
  },
  {
   "cell_type": "markdown",
   "metadata": {},
   "source": [
    "<div style=\"text-align: center; background-color: #5A96E3; font-family: 'Trebuchet MS', Arial, sans-serif; color: white; padding: 20px; font-size: 40px; font-weight: bold; border-radius: 0 0 0 0; box-shadow: 0px 6px 8px rgba(0, 0, 0, 0.2);\">\n",
    "  Giai đoạn 0 - Data Collecting 📌\n",
    "</div>"
   ]
  },
  {
   "cell_type": "markdown",
   "metadata": {},
   "source": [
    "### Tên tập dữ liệu"
   ]
  },
  {
   "cell_type": "markdown",
   "metadata": {},
   "source": [
    "- **ACEA Waterbody Dataset** (Bộ dữ liệu vùng nước của ACEA)"
   ]
  },
  {
   "cell_type": "markdown",
   "metadata": {},
   "source": [
    "### Lý do chọn tập dữ liệu"
   ]
  },
  {
   "cell_type": "markdown",
   "metadata": {},
   "source": [
    "- Nhóm đã chọn chủ đề `ACEA Waterbody Dataset` dựa trên cuộc thi của ACEA - tập đoàn đa dịch vụ hàng đầu tại Ý, về lĩnh vực nước để bảo vệ vùng nước quý. \n",
    "\n",
    "- Chúng tôi sẽ tập trung vào việc ***Phân tích tầng chứa nước ở vùng Petrignano*** - về các yếu tố sau: lượng mưa, độ sâu đến mực nước ngầm, nhiệt độ, lượng thoát nước và mức nước sông Chiascio. Điều này có thể giúp nhận biết các yếu tố nào quan trọng nhất của thủy vực đó và tại sao.\n",
    "\n",
    "- Đồng thời, sẽ đưa ra nhận thức về tổng lượng nước, các lý do ảnh hưởng và dự đoán để bảo tồn nước."
   ]
  },
  {
   "cell_type": "markdown",
   "metadata": {},
   "source": [
    "### Giấy phép"
   ]
  },
  {
   "cell_type": "markdown",
   "metadata": {},
   "source": [
    "**RULES** của Dataset có nói về quyền sử dụng đề cập đến việc chia sẻ mã nguồn công khai với điều kiện không vi phạm quyền sở hữu trí tuệ. Điều này áp dụng cho \n",
    "- ***CC BY-NC-SA 4.0 (Attribution-NonCommercial-ShareAlike 4.0 International)***\n",
    "```\n",
    "- Attribution: — Bạn phải đưa ra sự ghi công phù hợp, cung cấp một liên kết đến giấy phép, và chỉ ra nếu có sự thay đổi đã được thực hiện. Bạn có thể làm điều này bằng bất kỳ cách nào hợp lý, nhưng không được theo cách nào ngụ ý rằng người cấp phép ủng hộ bạn hoặc việc sử dụng của bạn.\n",
    "- NonCommercial — Bạn không được sử dụng tài liệu cho mục đích thương mại.\n",
    "- ShareAlike — Nếu bạn phối lại, biến đổi hoặc xây dựng trên tài liệu, bạn phải phân phối đó dưới cùng một giấy phép như ban đầu.\n",
    "- No additional restrictions — Bạn không được áp dụng các điều khoản pháp lý hoặc biện pháp công nghệ mà hạn chế pháp lý người khác làm bất cứ điều gì mà giấy phép cho phép.\n",
    "```"
   ]
  },
  {
   "cell_type": "markdown",
   "metadata": {},
   "source": [
    "### Nguồn thu thập dữ liệu"
   ]
  },
  {
   "cell_type": "markdown",
   "metadata": {},
   "source": [
    "- Tập dữ liệu được tải về từ kaggle, liên kết: https://www.kaggle.com/competitions/acea-water-prediction/data"
   ]
  },
  {
   "cell_type": "markdown",
   "metadata": {},
   "source": [
    "### Mô tả dữ liệu"
   ]
  },
  {
   "cell_type": "markdown",
   "metadata": {},
   "source": [
    "- Bộ dữ liệu chứa các tập dữ liệu đại diện cho một loại vùng nước khác nhau, thuộc phạm vi xử lý của tập đoàn ACEA. Bao gồm suối, hồ, sông và tầng chứa nước:\n",
    "    - Suối: Amiata, Madonna di Canneto, Lupa\n",
    "    - Sông: Arno\n",
    "    - Hồ: Bilancino\n",
    "    - Tầng chứa nước: Auser, Petrignano, Doganella, Luco\n",
    "\n",
    "- Vì mỗi vùng nước khác nhau nên các đặc điểm liên quan cũng khác nhau. Những khác biệt này được dự kiến dựa trên hành vi và đặc điểm riêng của từng vùng nước. \n",
    "- Ở đây, nhóm sẽ sử dụng bộ dữ liệu về tầng chứa nước ở Petrignano - `Aquifer_Petrignano`.\n",
    "     - Lý do chọn tập dữ liệu `Aquifer_Petrignano`: \n",
    "        - Dữ liệu đầy đủ và chi tiết.\n",
    "        - Số lượng yếu tố hợp lý.\n",
    "        - Tính nhất quán cao.\n",
    "        - Tính ứng dụng cao.\n",
    "        - Dễ phân tích.\n"
   ]
  },
  {
   "cell_type": "markdown",
   "metadata": {},
   "source": [
    "<center>\n",
    "\n",
    "| Waterbody                | Output (Feature to predict)            |\n",
    "|:------------------------:|:--------------------------------------:|\n",
    "| Aquifer_Auser            | Depth_to_Groundwater_SAL               |\n",
    "|                          | Depth_to_Groundwater_COS               |\n",
    "|                          | Depth_to_Groundwater_LT2               |\n",
    "| Aquifer_Petrignano       | Depth_to_Groundwater_P24               |\n",
    "|                          | Depth_to_Groundwater_P25               |\n",
    "| Aquifer_Doganella        | Depth_to_Groundwater_Pozzo_1           |\n",
    "|                          | Depth_to_Groundwater_Pozzo_2           |\n",
    "|                          | Depth_to_Groundwater_Pozzo_3           |\n",
    "|                          | Depth_to_Groundwater_Pozzo_4           |\n",
    "|                          | Depth_to_Groundwater_Pozzo_5           |\n",
    "|                          | Depth_to_Groundwater_Pozzo_6           |\n",
    "|                          | Depth_to_Groundwater_Pozzo_7           |\n",
    "|                          | Depth_to_Groundwater_Pozzo_8           |\n",
    "|                          | Depth_to_Groundwater_Pozzo_9           |\n",
    "| Aquifer_Luco             | Depth_to_Groundwater_Podere_Casetta    |\n",
    "| Water_Spring_Amiata      | Flow_Rate_Bugnano                      |\n",
    "|                          | Flow_Rate_Arbure                       |\n",
    "|                          | Flow_Rate_Ermicciolo                   |\n",
    "|                          | Flow_Rate_Galleria_Alta                |\n",
    "| Water_Spring_Madonna_di_Canneto | Flow_Rate_Madonna_di_Canneto    |\n",
    "| Water_Spring_Lupa        | Flow_Rate_Lupa                         |\n",
    "| River_Arno               | Hydrometry_Nave_di_Rosano              |\n",
    "| Lake_Bilancino           | Lake_Level                             |\n",
    "|                          | Flow_Rate                              |\n"
   ]
  },
  {
   "cell_type": "markdown",
   "metadata": {},
   "source": [
    "### Ý nghĩa của từng cột"
   ]
  },
  {
   "cell_type": "markdown",
   "metadata": {},
   "source": [
    "- **Rainfall_Bastia_Umbra**: Lượng mưa ghi nhận tại Bastia Umbra, một địa điểm cụ thể.\n",
    "- **Depth_to_Groundwater_P24**: Độ sâu của mực nước ngầm tại vị trí P24.\n",
    "- **Depth_to_Groundwater_P25**: Độ sâu của mực nước ngầm tại vị trí P25.\n",
    "- **Temperature_Bastia_Umbra**: Nhiệt độ ghi nhận tại Bastia Umbra, một địa điểm cụ thể.\n",
    "- **Temperature_Petrignano**: Nhiệt độ ghi nhận tại Petrignano, một địa điểm cụ thể.\n",
    "- **Volume_C10_Petrignano**: Dung tích hoặc lượng nước ghi nhận tại Petrignano, có thể liên quan đến mức độ lưu lượng nước.\n",
    "- **Hydrometry_Fiume_Chiascio_Petrignano**: Các dữ liệu đo liên quan đến lưu lượng và mức nước tại Fiume Chiascio gần Petrignano, có thể bao gồm mực nước và lưu lượng nước."
   ]
  },
  {
   "cell_type": "markdown",
   "metadata": {},
   "source": [
    "### Nhập các thư viện cần thiết"
   ]
  },
  {
   "cell_type": "code",
   "execution_count": 1,
   "metadata": {},
   "outputs": [],
   "source": [
    "import pandas as pd"
   ]
  },
  {
   "cell_type": "markdown",
   "metadata": {},
   "source": [
    "### Đọc dữ liệu"
   ]
  },
  {
   "cell_type": "code",
   "execution_count": 2,
   "metadata": {},
   "outputs": [
    {
     "data": {
      "text/html": [
       "<div>\n",
       "<style scoped>\n",
       "    .dataframe tbody tr th:only-of-type {\n",
       "        vertical-align: middle;\n",
       "    }\n",
       "\n",
       "    .dataframe tbody tr th {\n",
       "        vertical-align: top;\n",
       "    }\n",
       "\n",
       "    .dataframe thead th {\n",
       "        text-align: right;\n",
       "    }\n",
       "</style>\n",
       "<table border=\"1\" class=\"dataframe\">\n",
       "  <thead>\n",
       "    <tr style=\"text-align: right;\">\n",
       "      <th></th>\n",
       "      <th>Date</th>\n",
       "      <th>Rainfall_Bastia_Umbra</th>\n",
       "      <th>Depth_to_Groundwater_P24</th>\n",
       "      <th>Depth_to_Groundwater_P25</th>\n",
       "      <th>Temperature_Bastia_Umbra</th>\n",
       "      <th>Temperature_Petrignano</th>\n",
       "      <th>Volume_C10_Petrignano</th>\n",
       "      <th>Hydrometry_Fiume_Chiascio_Petrignano</th>\n",
       "    </tr>\n",
       "  </thead>\n",
       "  <tbody>\n",
       "    <tr>\n",
       "      <th>0</th>\n",
       "      <td>14/03/2006</td>\n",
       "      <td>NaN</td>\n",
       "      <td>-22.48</td>\n",
       "      <td>-22.18</td>\n",
       "      <td>NaN</td>\n",
       "      <td>NaN</td>\n",
       "      <td>NaN</td>\n",
       "      <td>NaN</td>\n",
       "    </tr>\n",
       "    <tr>\n",
       "      <th>1</th>\n",
       "      <td>15/03/2006</td>\n",
       "      <td>NaN</td>\n",
       "      <td>-22.38</td>\n",
       "      <td>-22.14</td>\n",
       "      <td>NaN</td>\n",
       "      <td>NaN</td>\n",
       "      <td>NaN</td>\n",
       "      <td>NaN</td>\n",
       "    </tr>\n",
       "    <tr>\n",
       "      <th>2</th>\n",
       "      <td>16/03/2006</td>\n",
       "      <td>NaN</td>\n",
       "      <td>-22.25</td>\n",
       "      <td>-22.04</td>\n",
       "      <td>NaN</td>\n",
       "      <td>NaN</td>\n",
       "      <td>NaN</td>\n",
       "      <td>NaN</td>\n",
       "    </tr>\n",
       "    <tr>\n",
       "      <th>3</th>\n",
       "      <td>17/03/2006</td>\n",
       "      <td>NaN</td>\n",
       "      <td>-22.38</td>\n",
       "      <td>-22.04</td>\n",
       "      <td>NaN</td>\n",
       "      <td>NaN</td>\n",
       "      <td>NaN</td>\n",
       "      <td>NaN</td>\n",
       "    </tr>\n",
       "    <tr>\n",
       "      <th>4</th>\n",
       "      <td>18/03/2006</td>\n",
       "      <td>NaN</td>\n",
       "      <td>-22.60</td>\n",
       "      <td>-22.04</td>\n",
       "      <td>NaN</td>\n",
       "      <td>NaN</td>\n",
       "      <td>NaN</td>\n",
       "      <td>NaN</td>\n",
       "    </tr>\n",
       "    <tr>\n",
       "      <th>...</th>\n",
       "      <td>...</td>\n",
       "      <td>...</td>\n",
       "      <td>...</td>\n",
       "      <td>...</td>\n",
       "      <td>...</td>\n",
       "      <td>...</td>\n",
       "      <td>...</td>\n",
       "      <td>...</td>\n",
       "    </tr>\n",
       "    <tr>\n",
       "      <th>5218</th>\n",
       "      <td>26/06/2020</td>\n",
       "      <td>0.0</td>\n",
       "      <td>-25.68</td>\n",
       "      <td>-25.07</td>\n",
       "      <td>25.7</td>\n",
       "      <td>24.5</td>\n",
       "      <td>-29930.688</td>\n",
       "      <td>2.5</td>\n",
       "    </tr>\n",
       "    <tr>\n",
       "      <th>5219</th>\n",
       "      <td>27/06/2020</td>\n",
       "      <td>0.0</td>\n",
       "      <td>-25.80</td>\n",
       "      <td>-25.11</td>\n",
       "      <td>26.2</td>\n",
       "      <td>25.0</td>\n",
       "      <td>-31332.960</td>\n",
       "      <td>2.4</td>\n",
       "    </tr>\n",
       "    <tr>\n",
       "      <th>5220</th>\n",
       "      <td>28/06/2020</td>\n",
       "      <td>0.0</td>\n",
       "      <td>-25.80</td>\n",
       "      <td>-25.19</td>\n",
       "      <td>26.9</td>\n",
       "      <td>25.7</td>\n",
       "      <td>-32120.928</td>\n",
       "      <td>2.4</td>\n",
       "    </tr>\n",
       "    <tr>\n",
       "      <th>5221</th>\n",
       "      <td>29/06/2020</td>\n",
       "      <td>0.0</td>\n",
       "      <td>-25.78</td>\n",
       "      <td>-25.18</td>\n",
       "      <td>26.9</td>\n",
       "      <td>26.0</td>\n",
       "      <td>-30602.880</td>\n",
       "      <td>2.4</td>\n",
       "    </tr>\n",
       "    <tr>\n",
       "      <th>5222</th>\n",
       "      <td>30/06/2020</td>\n",
       "      <td>0.0</td>\n",
       "      <td>-25.91</td>\n",
       "      <td>-25.25</td>\n",
       "      <td>27.3</td>\n",
       "      <td>26.5</td>\n",
       "      <td>-31878.144</td>\n",
       "      <td>2.4</td>\n",
       "    </tr>\n",
       "  </tbody>\n",
       "</table>\n",
       "<p>5223 rows × 8 columns</p>\n",
       "</div>"
      ],
      "text/plain": [
       "            Date  Rainfall_Bastia_Umbra  Depth_to_Groundwater_P24  \\\n",
       "0     14/03/2006                    NaN                    -22.48   \n",
       "1     15/03/2006                    NaN                    -22.38   \n",
       "2     16/03/2006                    NaN                    -22.25   \n",
       "3     17/03/2006                    NaN                    -22.38   \n",
       "4     18/03/2006                    NaN                    -22.60   \n",
       "...          ...                    ...                       ...   \n",
       "5218  26/06/2020                    0.0                    -25.68   \n",
       "5219  27/06/2020                    0.0                    -25.80   \n",
       "5220  28/06/2020                    0.0                    -25.80   \n",
       "5221  29/06/2020                    0.0                    -25.78   \n",
       "5222  30/06/2020                    0.0                    -25.91   \n",
       "\n",
       "      Depth_to_Groundwater_P25  Temperature_Bastia_Umbra  \\\n",
       "0                       -22.18                       NaN   \n",
       "1                       -22.14                       NaN   \n",
       "2                       -22.04                       NaN   \n",
       "3                       -22.04                       NaN   \n",
       "4                       -22.04                       NaN   \n",
       "...                        ...                       ...   \n",
       "5218                    -25.07                      25.7   \n",
       "5219                    -25.11                      26.2   \n",
       "5220                    -25.19                      26.9   \n",
       "5221                    -25.18                      26.9   \n",
       "5222                    -25.25                      27.3   \n",
       "\n",
       "      Temperature_Petrignano  Volume_C10_Petrignano  \\\n",
       "0                        NaN                    NaN   \n",
       "1                        NaN                    NaN   \n",
       "2                        NaN                    NaN   \n",
       "3                        NaN                    NaN   \n",
       "4                        NaN                    NaN   \n",
       "...                      ...                    ...   \n",
       "5218                    24.5             -29930.688   \n",
       "5219                    25.0             -31332.960   \n",
       "5220                    25.7             -32120.928   \n",
       "5221                    26.0             -30602.880   \n",
       "5222                    26.5             -31878.144   \n",
       "\n",
       "      Hydrometry_Fiume_Chiascio_Petrignano  \n",
       "0                                      NaN  \n",
       "1                                      NaN  \n",
       "2                                      NaN  \n",
       "3                                      NaN  \n",
       "4                                      NaN  \n",
       "...                                    ...  \n",
       "5218                                   2.5  \n",
       "5219                                   2.4  \n",
       "5220                                   2.4  \n",
       "5221                                   2.4  \n",
       "5222                                   2.4  \n",
       "\n",
       "[5223 rows x 8 columns]"
      ]
     },
     "execution_count": 2,
     "metadata": {},
     "output_type": "execute_result"
    }
   ],
   "source": [
    "df = pd.read_csv(\"data/Aquifer_Petrignano.csv\")\n",
    "df"
   ]
  },
  {
   "cell_type": "markdown",
   "metadata": {},
   "source": [
    "### Thông tin các cột"
   ]
  },
  {
   "cell_type": "code",
   "execution_count": 3,
   "metadata": {},
   "outputs": [
    {
     "name": "stdout",
     "output_type": "stream",
     "text": [
      "<class 'pandas.core.frame.DataFrame'>\n",
      "RangeIndex: 5223 entries, 0 to 5222\n",
      "Data columns (total 8 columns):\n",
      " #   Column                                Non-Null Count  Dtype  \n",
      "---  ------                                --------------  -----  \n",
      " 0   Date                                  5223 non-null   object \n",
      " 1   Rainfall_Bastia_Umbra                 4199 non-null   float64\n",
      " 2   Depth_to_Groundwater_P24              5168 non-null   float64\n",
      " 3   Depth_to_Groundwater_P25              5184 non-null   float64\n",
      " 4   Temperature_Bastia_Umbra              4199 non-null   float64\n",
      " 5   Temperature_Petrignano                4199 non-null   float64\n",
      " 6   Volume_C10_Petrignano                 5025 non-null   float64\n",
      " 7   Hydrometry_Fiume_Chiascio_Petrignano  4199 non-null   float64\n",
      "dtypes: float64(7), object(1)\n",
      "memory usage: 326.6+ KB\n"
     ]
    }
   ],
   "source": [
    "df.info()"
   ]
  }
 ],
 "metadata": {
  "kernelspec": {
   "display_name": "min_ds-env",
   "language": "python",
   "name": "python3"
  },
  "language_info": {
   "codemirror_mode": {
    "name": "ipython",
    "version": 3
   },
   "file_extension": ".py",
   "mimetype": "text/x-python",
   "name": "python",
   "nbconvert_exporter": "python",
   "pygments_lexer": "ipython3",
   "version": "3.11.7"
  }
 },
 "nbformat": 4,
 "nbformat_minor": 2
}
